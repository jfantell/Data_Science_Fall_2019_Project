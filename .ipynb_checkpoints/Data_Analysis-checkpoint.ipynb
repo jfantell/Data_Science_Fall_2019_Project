{
 "cells": [
  {
   "cell_type": "markdown",
   "metadata": {
    "colab_type": "text",
    "id": "hG9qkWDZvApZ"
   },
   "source": [
    "**Mount Drive and Read Data From Disk**\n",
    "\n",
    "Do not modify this section"
   ]
  },
  {
   "cell_type": "code",
   "execution_count": 2,
   "metadata": {
    "colab": {},
    "colab_type": "code",
    "id": "pjgmubaWNh64"
   },
   "outputs": [],
   "source": [
    "import pandas as pd\n",
    "import numpy as np"
   ]
  },
  {
   "cell_type": "code",
   "execution_count": 3,
   "metadata": {
    "colab": {
     "base_uri": "https://localhost:8080/",
     "height": 35
    },
    "colab_type": "code",
    "id": "z0igC_YaNBpO",
    "outputId": "f9507c05-1ccf-4a3e-9a21-6ba0d012f852"
   },
   "outputs": [],
   "source": [
    "#from google.colab import drive\n",
    "#drive.mount('/content/drive/',force_remount=True)"
   ]
  },
  {
   "cell_type": "code",
   "execution_count": 4,
   "metadata": {
    "colab": {
     "base_uri": "https://localhost:8080/",
     "height": 924
    },
    "colab_type": "code",
    "id": "oDNYhw61NKpM",
    "outputId": "2fe4f981-2137-4146-f05e-489fdb861cb4"
   },
   "outputs": [],
   "source": [
    "#John\n",
    "#cd drive/'My Drive'/'Data Science Group'/Data/"
   ]
  },
  {
   "cell_type": "code",
   "execution_count": 5,
   "metadata": {
    "colab": {
     "base_uri": "https://localhost:8080/",
     "height": 52
    },
    "colab_type": "code",
    "id": "3DfwUtGBNO9v",
    "outputId": "e26fb564-34f3-49f6-fe3a-e35de1f572fa"
   },
   "outputs": [
    {
     "name": "stdout",
     "output_type": "stream",
     "text": [
      " Volume in drive C has no label.\n",
      " Volume Serial Number is 2667-A699\n",
      "\n",
      " Directory of C:\\Users\\Samm Katcher\\Github\\Data_Science_Fall_2019_Project\n",
      "\n",
      "11/27/2019  05:56 PM    <DIR>          .\n",
      "11/27/2019  05:56 PM    <DIR>          ..\n",
      "11/27/2019  05:56 PM    <DIR>          .ipynb_checkpoints\n",
      "11/27/2019  05:56 PM            16,071 Data_Analysis.ipynb\n",
      "11/27/2019  05:47 PM            26,157 Data_Processing.ipynb\n",
      "11/27/2019  05:45 PM    <DIR>          EPA\n",
      "11/27/2019  05:46 PM           616,764 epa_noaa.csv\n",
      "11/27/2019  05:45 PM    <DIR>          NWS\n",
      "11/27/2019  05:45 PM               292 README.md\n",
      "               4 File(s)        659,284 bytes\n",
      "               5 Dir(s)  382,768,742,400 bytes free\n"
     ]
    }
   ],
   "source": [
    "ls"
   ]
  },
  {
   "cell_type": "markdown",
   "metadata": {
    "colab_type": "text",
    "id": "wjtat8LqvU9V"
   },
   "source": [
    "# Import Data"
   ]
  },
  {
   "cell_type": "code",
   "execution_count": 6,
   "metadata": {
    "colab": {
     "base_uri": "https://localhost:8080/",
     "height": 167
    },
    "colab_type": "code",
    "id": "ZhvwgvOmOGVQ",
    "outputId": "83c9ca02-e64f-4370-f1ab-865992671c72"
   },
   "outputs": [],
   "source": [
    "epa_noaa = pd.read_csv('epa_noaa.csv')"
   ]
  },
  {
   "cell_type": "code",
   "execution_count": 8,
   "metadata": {
    "colab": {},
    "colab_type": "code",
    "id": "nI7_otCAu3hy"
   },
   "outputs": [],
   "source": [
    "epa_noaa.fillna(0,inplace=True)"
   ]
  },
  {
   "cell_type": "markdown",
   "metadata": {
    "colab_type": "text",
    "id": "ZEbOgWa4vw3z"
   },
   "source": [
    "# Data Modeling"
   ]
  },
  {
   "cell_type": "code",
   "execution_count": 9,
   "metadata": {
    "colab": {},
    "colab_type": "code",
    "id": "K9BJuStLu4ox"
   },
   "outputs": [],
   "source": [
    "from sklearn.linear_model import LinearRegression\n",
    "from sklearn.model_selection import train_test_split\n",
    "from sklearn.metrics import mean_squared_error, r2_score\n",
    "from itertools import combinations\n",
    "import matplotlib.pyplot as plt\n",
    "import numpy as np"
   ]
  },
  {
   "cell_type": "code",
   "execution_count": 11,
   "metadata": {
    "colab": {},
    "colab_type": "code",
    "id": "eR9C6Z0A92wt"
   },
   "outputs": [],
   "source": [
    "class TopModel(object):\n",
    "  def __init__(self):\n",
    "    self.mse_ = 10000000\n",
    "    self.explained_variance_ = 0\n",
    "    self.coefficients_ = []\n",
    "    self.features_ = []\n",
    "    self.target_ = []\n",
    "  \n",
    "  def get_mse(self):\n",
    "    return self.mse_\n",
    "\n",
    "  def get_explained_variance(self):\n",
    "    return self.explained_variance_\n",
    "\n",
    "  def reset_model(self,mse,explained_variance,coefficients,features,target):\n",
    "    self.mse_ = mse\n",
    "    self.explained_variance_ = explained_variance\n",
    "    self.coefficients_ = coefficients \n",
    "    self.features_ = features\n",
    "    self.target_ = target\n",
    "\n",
    "  def __str__(self):\n",
    "    return \"Top Model\\n\\tFeatures: {} Target: {}\\n\\tMSE: {} R^2 {}\\n\\tCoefficients: {}\".format(self.features_,self.target_,self.mse_, self.explained_variance_, self.coefficients_)"
   ]
  },
  {
   "cell_type": "code",
   "execution_count": 12,
   "metadata": {
    "colab": {},
    "colab_type": "code",
    "id": "MWSslKCIvnxO"
   },
   "outputs": [],
   "source": [
    "def get_best_model(dataframe,features,targets):\n",
    "  # Initialize object to store top model\n",
    "  topModel = TopModel()\n",
    "  # Generate list of all possible feature set combinations\n",
    "  feature_type_combinations = sum([list(map(list, combinations(features, i))) for i in range(1,len(features) + 1)], [])\n",
    "  for idx1, target in enumerate(targets):\n",
    "    for idx2, combination in enumerate(feature_type_combinations):\n",
    "        mse, explained_variance, coefficients = train_and_evaluate(dataframe,combination,target)\n",
    "        #if(mse < topModel.get_mse()):\n",
    "        if explained_variance > topModel.get_explained_variance():\n",
    "          # Get coefficients\n",
    "          topModel.reset_model(mse,explained_variance,coefficients,combination,target)\n",
    "  return topModel"
   ]
  },
  {
   "cell_type": "code",
   "execution_count": 13,
   "metadata": {
    "colab": {},
    "colab_type": "code",
    "id": "iVyIRgHsGZ9z"
   },
   "outputs": [],
   "source": [
    "def train_and_evaluate(dataframe,features,target,returnPredictions=False):\n",
    "    X = dataframe[features].values\n",
    "    y = dataframe[target].values\n",
    "    # print(X.shape, y.shape)\n",
    "    # Partition data into train and test split\n",
    "    X_train, X_test, y_train, y_test = train_test_split(X, y, test_size=0.2, shuffle=True, random_state=42)\n",
    "    # Train a regression model\n",
    "    reg = LinearRegression().fit(X_train, y_train)\n",
    "    # Get predicted targets\n",
    "    y_predictions = reg.predict(X_test)\n",
    "    mse = mean_squared_error(y_test, y_predictions)\n",
    "    explained_variance = r2_score(y_test, y_predictions)\n",
    "    coefficients = reg.coef_\n",
    "    if returnPredictions:\n",
    "      test_predictions = np.vstack([y_test,y_predictions]).T\n",
    "      test_predictions_dataframe = pd.DataFrame(data=test_predictions,columns=['Test','Predicted'])\n",
    "      return mse, explained_variance, coefficients, test_predictions_dataframe\n",
    "    else:\n",
    "      return mse, explained_variance, coefficients"
   ]
  },
  {
   "cell_type": "code",
   "execution_count": 59,
   "metadata": {
    "colab": {
     "base_uri": "https://localhost:8080/",
     "height": 220
    },
    "colab_type": "code",
    "id": "nG2Ll3rA-pL4",
    "outputId": "122290a9-ba75-4c94-b5f6-e47240dfbe26"
   },
   "outputs": [],
   "source": [
    "features = ['PRCP','AWND','SNWD','SNOW','TAVG']\n",
    "targets = ['AQI_SO2','AQI_NO2','AQI_Ozone','Arithmetic Mean_Ozone','Arithmetic Mean_SO2','Arithmetic Mean_CO','Arithmetic Mean_NO2']\n",
    "dataframe = epa_noaa\n",
    "topModel = get_best_model(dataframe,features,targets)"
   ]
  },
  {
   "cell_type": "code",
   "execution_count": 15,
   "metadata": {
    "colab": {
     "base_uri": "https://localhost:8080/",
     "height": 102
    },
    "colab_type": "code",
    "id": "nFOSXU9hzt4E",
    "outputId": "c393c850-8ee4-4f01-a09a-5c27d22b8af6"
   },
   "outputs": [
    {
     "name": "stdout",
     "output_type": "stream",
     "text": [
      "Top Model\n",
      "\tFeatures: ['PRCP', 'AWND', 'SNWD', 'SNOW', 'TAVG'] Target: Arithmetic Mean_Ozone\n",
      "\tMSE: 8.789580855395983e-05 R^2 0.3068421445771601\n",
      "\tCoefficients: [-1.92445680e-04  7.97851262e-04  1.27100478e-05  3.37625587e-05\n",
      "  6.84417861e-04]\n"
     ]
    }
   ],
   "source": [
    "print(topModel)"
   ]
  },
  {
   "cell_type": "code",
   "execution_count": 16,
   "metadata": {
    "colab": {},
    "colab_type": "code",
    "id": "LZSXlrXU8O0c"
   },
   "outputs": [],
   "source": [
    "mse, explained_variance, coefficients, test_predictions = train_and_evaluate( dataframe, ['TAVG'], 'Arithmetic Mean_Ozone', returnPredictions=True)\n"
   ]
  },
  {
   "cell_type": "code",
   "execution_count": 17,
   "metadata": {
    "colab": {},
    "colab_type": "code",
    "id": "7pCFb3ZrIl4C"
   },
   "outputs": [
    {
     "name": "stdout",
     "output_type": "stream",
     "text": [
      "9.460894037671023e-05 0.2539015079986614\n"
     ]
    }
   ],
   "source": [
    "print(mse, explained_variance)"
   ]
  },
  {
   "cell_type": "markdown",
   "metadata": {
    "colab": {},
    "colab_type": "code",
    "id": "psWlT0nsT-pI"
   },
   "source": [
    "# Exploratory Analysis"
   ]
  },
  {
   "cell_type": "code",
   "execution_count": 22,
   "metadata": {},
   "outputs": [],
   "source": [
    "import matplotlib.pyplot as plt\n",
    "import seaborn as sns"
   ]
  },
  {
   "cell_type": "code",
   "execution_count": 18,
   "metadata": {},
   "outputs": [
    {
     "data": {
      "text/html": [
       "<div>\n",
       "<style scoped>\n",
       "    .dataframe tbody tr th:only-of-type {\n",
       "        vertical-align: middle;\n",
       "    }\n",
       "\n",
       "    .dataframe tbody tr th {\n",
       "        vertical-align: top;\n",
       "    }\n",
       "\n",
       "    .dataframe thead th {\n",
       "        text-align: right;\n",
       "    }\n",
       "</style>\n",
       "<table border=\"1\" class=\"dataframe\">\n",
       "  <thead>\n",
       "    <tr style=\"text-align: right;\">\n",
       "      <th></th>\n",
       "      <th>Unnamed: 0</th>\n",
       "      <th>Date Local</th>\n",
       "      <th>City Name</th>\n",
       "      <th>Event Type_CO</th>\n",
       "      <th>1st Max Value_CO</th>\n",
       "      <th>AQI_CO</th>\n",
       "      <th>Arithmetic Mean_CO</th>\n",
       "      <th>Event Type_SO2</th>\n",
       "      <th>1st Max Value_SO2</th>\n",
       "      <th>AQI_SO2</th>\n",
       "      <th>...</th>\n",
       "      <th>1st Max Value_NO2</th>\n",
       "      <th>AQI_NO2</th>\n",
       "      <th>Arithmetic Mean_NO2</th>\n",
       "      <th>PRCP</th>\n",
       "      <th>AWND</th>\n",
       "      <th>SNWD</th>\n",
       "      <th>SNOW</th>\n",
       "      <th>TMAX</th>\n",
       "      <th>TMIN</th>\n",
       "      <th>TAVG</th>\n",
       "    </tr>\n",
       "  </thead>\n",
       "  <tbody>\n",
       "    <tr>\n",
       "      <th>0</th>\n",
       "      <td>0</td>\n",
       "      <td>2015-01-01</td>\n",
       "      <td>New York</td>\n",
       "      <td>None</td>\n",
       "      <td>0.4</td>\n",
       "      <td>0.0</td>\n",
       "      <td>0.287500</td>\n",
       "      <td>None</td>\n",
       "      <td>5.3</td>\n",
       "      <td>7.0</td>\n",
       "      <td>...</td>\n",
       "      <td>29.8</td>\n",
       "      <td>27</td>\n",
       "      <td>20.062500</td>\n",
       "      <td>0.0</td>\n",
       "      <td>6.2</td>\n",
       "      <td>0.0</td>\n",
       "      <td>0.0</td>\n",
       "      <td>3.9</td>\n",
       "      <td>-2.7</td>\n",
       "      <td>-0.4</td>\n",
       "    </tr>\n",
       "    <tr>\n",
       "      <th>1</th>\n",
       "      <td>1</td>\n",
       "      <td>2015-01-02</td>\n",
       "      <td>New York</td>\n",
       "      <td>None</td>\n",
       "      <td>0.4</td>\n",
       "      <td>0.0</td>\n",
       "      <td>0.295833</td>\n",
       "      <td>None</td>\n",
       "      <td>4.3</td>\n",
       "      <td>6.0</td>\n",
       "      <td>...</td>\n",
       "      <td>29.2</td>\n",
       "      <td>27</td>\n",
       "      <td>21.587500</td>\n",
       "      <td>0.0</td>\n",
       "      <td>6.1</td>\n",
       "      <td>0.0</td>\n",
       "      <td>0.0</td>\n",
       "      <td>5.6</td>\n",
       "      <td>1.7</td>\n",
       "      <td>3.7</td>\n",
       "    </tr>\n",
       "    <tr>\n",
       "      <th>2</th>\n",
       "      <td>2</td>\n",
       "      <td>2015-01-03</td>\n",
       "      <td>New York</td>\n",
       "      <td>None</td>\n",
       "      <td>0.4</td>\n",
       "      <td>0.0</td>\n",
       "      <td>0.275000</td>\n",
       "      <td>None</td>\n",
       "      <td>3.2</td>\n",
       "      <td>4.0</td>\n",
       "      <td>...</td>\n",
       "      <td>29.7</td>\n",
       "      <td>27</td>\n",
       "      <td>17.770833</td>\n",
       "      <td>17.0</td>\n",
       "      <td>4.3</td>\n",
       "      <td>0.0</td>\n",
       "      <td>0.0</td>\n",
       "      <td>5.0</td>\n",
       "      <td>-0.5</td>\n",
       "      <td>1.8</td>\n",
       "    </tr>\n",
       "    <tr>\n",
       "      <th>3</th>\n",
       "      <td>3</td>\n",
       "      <td>2015-01-04</td>\n",
       "      <td>New York</td>\n",
       "      <td>None</td>\n",
       "      <td>0.7</td>\n",
       "      <td>0.0</td>\n",
       "      <td>0.433333</td>\n",
       "      <td>None</td>\n",
       "      <td>2.8</td>\n",
       "      <td>3.0</td>\n",
       "      <td>...</td>\n",
       "      <td>34.7</td>\n",
       "      <td>32</td>\n",
       "      <td>19.183333</td>\n",
       "      <td>7.9</td>\n",
       "      <td>4.9</td>\n",
       "      <td>0.0</td>\n",
       "      <td>0.0</td>\n",
       "      <td>13.9</td>\n",
       "      <td>5.0</td>\n",
       "      <td>7.3</td>\n",
       "    </tr>\n",
       "    <tr>\n",
       "      <th>4</th>\n",
       "      <td>4</td>\n",
       "      <td>2015-01-05</td>\n",
       "      <td>New York</td>\n",
       "      <td>None</td>\n",
       "      <td>0.5</td>\n",
       "      <td>0.0</td>\n",
       "      <td>0.275000</td>\n",
       "      <td>None</td>\n",
       "      <td>2.2</td>\n",
       "      <td>3.0</td>\n",
       "      <td>...</td>\n",
       "      <td>21.0</td>\n",
       "      <td>20</td>\n",
       "      <td>10.266667</td>\n",
       "      <td>0.0</td>\n",
       "      <td>9.3</td>\n",
       "      <td>0.0</td>\n",
       "      <td>0.0</td>\n",
       "      <td>10.0</td>\n",
       "      <td>-5.5</td>\n",
       "      <td>5.8</td>\n",
       "    </tr>\n",
       "  </tbody>\n",
       "</table>\n",
       "<p>5 rows × 26 columns</p>\n",
       "</div>"
      ],
      "text/plain": [
       "   Unnamed: 0  Date Local City Name Event Type_CO  1st Max Value_CO  AQI_CO  \\\n",
       "0           0  2015-01-01  New York          None               0.4     0.0   \n",
       "1           1  2015-01-02  New York          None               0.4     0.0   \n",
       "2           2  2015-01-03  New York          None               0.4     0.0   \n",
       "3           3  2015-01-04  New York          None               0.7     0.0   \n",
       "4           4  2015-01-05  New York          None               0.5     0.0   \n",
       "\n",
       "   Arithmetic Mean_CO Event Type_SO2  1st Max Value_SO2  AQI_SO2  ...  \\\n",
       "0            0.287500           None                5.3      7.0  ...   \n",
       "1            0.295833           None                4.3      6.0  ...   \n",
       "2            0.275000           None                3.2      4.0  ...   \n",
       "3            0.433333           None                2.8      3.0  ...   \n",
       "4            0.275000           None                2.2      3.0  ...   \n",
       "\n",
       "   1st Max Value_NO2 AQI_NO2  Arithmetic Mean_NO2  PRCP  AWND SNWD  SNOW  \\\n",
       "0               29.8      27            20.062500   0.0   6.2  0.0   0.0   \n",
       "1               29.2      27            21.587500   0.0   6.1  0.0   0.0   \n",
       "2               29.7      27            17.770833  17.0   4.3  0.0   0.0   \n",
       "3               34.7      32            19.183333   7.9   4.9  0.0   0.0   \n",
       "4               21.0      20            10.266667   0.0   9.3  0.0   0.0   \n",
       "\n",
       "   TMAX  TMIN  TAVG  \n",
       "0   3.9  -2.7  -0.4  \n",
       "1   5.6   1.7   3.7  \n",
       "2   5.0  -0.5   1.8  \n",
       "3  13.9   5.0   7.3  \n",
       "4  10.0  -5.5   5.8  \n",
       "\n",
       "[5 rows x 26 columns]"
      ]
     },
     "execution_count": 18,
     "metadata": {},
     "output_type": "execute_result"
    }
   ],
   "source": [
    "epa_noaa.head()"
   ]
  },
  {
   "cell_type": "code",
   "execution_count": 21,
   "metadata": {
    "scrolled": true
   },
   "outputs": [
    {
     "data": {
      "text/html": [
       "<div>\n",
       "<style scoped>\n",
       "    .dataframe tbody tr th:only-of-type {\n",
       "        vertical-align: middle;\n",
       "    }\n",
       "\n",
       "    .dataframe tbody tr th {\n",
       "        vertical-align: top;\n",
       "    }\n",
       "\n",
       "    .dataframe thead th {\n",
       "        text-align: right;\n",
       "    }\n",
       "</style>\n",
       "<table border=\"1\" class=\"dataframe\">\n",
       "  <thead>\n",
       "    <tr style=\"text-align: right;\">\n",
       "      <th></th>\n",
       "      <th>Unnamed: 0</th>\n",
       "      <th>1st Max Value_CO</th>\n",
       "      <th>AQI_CO</th>\n",
       "      <th>Arithmetic Mean_CO</th>\n",
       "      <th>1st Max Value_SO2</th>\n",
       "      <th>AQI_SO2</th>\n",
       "      <th>Arithmetic Mean_SO2</th>\n",
       "      <th>1st Max Value_Ozone</th>\n",
       "      <th>AQI_Ozone</th>\n",
       "      <th>Arithmetic Mean_Ozone</th>\n",
       "      <th>1st Max Value_NO2</th>\n",
       "      <th>AQI_NO2</th>\n",
       "      <th>Arithmetic Mean_NO2</th>\n",
       "      <th>PRCP</th>\n",
       "      <th>AWND</th>\n",
       "      <th>SNWD</th>\n",
       "      <th>SNOW</th>\n",
       "      <th>TMAX</th>\n",
       "      <th>TMIN</th>\n",
       "      <th>TAVG</th>\n",
       "    </tr>\n",
       "  </thead>\n",
       "  <tbody>\n",
       "    <tr>\n",
       "      <th>count</th>\n",
       "      <td>4013.000000</td>\n",
       "      <td>4013.000000</td>\n",
       "      <td>4013.0</td>\n",
       "      <td>4013.000000</td>\n",
       "      <td>4013.000000</td>\n",
       "      <td>4013.000000</td>\n",
       "      <td>4013.000000</td>\n",
       "      <td>4013.000000</td>\n",
       "      <td>4013.000000</td>\n",
       "      <td>4013.000000</td>\n",
       "      <td>4013.000000</td>\n",
       "      <td>4013.000000</td>\n",
       "      <td>4013.000000</td>\n",
       "      <td>4013.000000</td>\n",
       "      <td>4013.000000</td>\n",
       "      <td>4013.000000</td>\n",
       "      <td>4013.000000</td>\n",
       "      <td>4013.000000</td>\n",
       "      <td>4013.000000</td>\n",
       "      <td>4013.000000</td>\n",
       "    </tr>\n",
       "    <tr>\n",
       "      <th>mean</th>\n",
       "      <td>2006.000000</td>\n",
       "      <td>0.556188</td>\n",
       "      <td>0.0</td>\n",
       "      <td>0.276255</td>\n",
       "      <td>1.932445</td>\n",
       "      <td>1.982557</td>\n",
       "      <td>0.833141</td>\n",
       "      <td>0.037676</td>\n",
       "      <td>36.390481</td>\n",
       "      <td>0.028340</td>\n",
       "      <td>27.112759</td>\n",
       "      <td>25.167207</td>\n",
       "      <td>13.115593</td>\n",
       "      <td>2.224122</td>\n",
       "      <td>3.815176</td>\n",
       "      <td>6.896337</td>\n",
       "      <td>1.767755</td>\n",
       "      <td>19.613905</td>\n",
       "      <td>10.528482</td>\n",
       "      <td>14.765338</td>\n",
       "    </tr>\n",
       "    <tr>\n",
       "      <th>std</th>\n",
       "      <td>1158.597644</td>\n",
       "      <td>0.481144</td>\n",
       "      <td>0.0</td>\n",
       "      <td>0.214288</td>\n",
       "      <td>1.844830</td>\n",
       "      <td>2.727888</td>\n",
       "      <td>0.719562</td>\n",
       "      <td>0.013057</td>\n",
       "      <td>16.538492</td>\n",
       "      <td>0.011093</td>\n",
       "      <td>13.528240</td>\n",
       "      <td>12.872107</td>\n",
       "      <td>7.832565</td>\n",
       "      <td>7.127527</td>\n",
       "      <td>1.814895</td>\n",
       "      <td>35.896400</td>\n",
       "      <td>17.908399</td>\n",
       "      <td>10.136479</td>\n",
       "      <td>9.224061</td>\n",
       "      <td>9.297367</td>\n",
       "    </tr>\n",
       "    <tr>\n",
       "      <th>min</th>\n",
       "      <td>0.000000</td>\n",
       "      <td>-0.200000</td>\n",
       "      <td>0.0</td>\n",
       "      <td>-0.271429</td>\n",
       "      <td>-0.400000</td>\n",
       "      <td>0.000000</td>\n",
       "      <td>-0.679167</td>\n",
       "      <td>0.000000</td>\n",
       "      <td>0.000000</td>\n",
       "      <td>0.000000</td>\n",
       "      <td>1.200000</td>\n",
       "      <td>1.000000</td>\n",
       "      <td>-0.152174</td>\n",
       "      <td>0.000000</td>\n",
       "      <td>0.000000</td>\n",
       "      <td>0.000000</td>\n",
       "      <td>0.000000</td>\n",
       "      <td>-17.100000</td>\n",
       "      <td>-24.900000</td>\n",
       "      <td>-19.100000</td>\n",
       "    </tr>\n",
       "    <tr>\n",
       "      <th>25%</th>\n",
       "      <td>1003.000000</td>\n",
       "      <td>0.200000</td>\n",
       "      <td>0.0</td>\n",
       "      <td>0.135294</td>\n",
       "      <td>0.800000</td>\n",
       "      <td>0.000000</td>\n",
       "      <td>0.395238</td>\n",
       "      <td>0.029000</td>\n",
       "      <td>27.000000</td>\n",
       "      <td>0.020647</td>\n",
       "      <td>16.700000</td>\n",
       "      <td>15.000000</td>\n",
       "      <td>7.200000</td>\n",
       "      <td>0.000000</td>\n",
       "      <td>2.500000</td>\n",
       "      <td>0.000000</td>\n",
       "      <td>0.000000</td>\n",
       "      <td>13.300000</td>\n",
       "      <td>4.400000</td>\n",
       "      <td>8.800000</td>\n",
       "    </tr>\n",
       "    <tr>\n",
       "      <th>50%</th>\n",
       "      <td>2006.000000</td>\n",
       "      <td>0.430000</td>\n",
       "      <td>0.0</td>\n",
       "      <td>0.245833</td>\n",
       "      <td>1.400000</td>\n",
       "      <td>1.000000</td>\n",
       "      <td>0.618182</td>\n",
       "      <td>0.038000</td>\n",
       "      <td>35.000000</td>\n",
       "      <td>0.028588</td>\n",
       "      <td>25.900000</td>\n",
       "      <td>24.000000</td>\n",
       "      <td>11.941667</td>\n",
       "      <td>0.000000</td>\n",
       "      <td>3.400000</td>\n",
       "      <td>0.000000</td>\n",
       "      <td>0.000000</td>\n",
       "      <td>21.700000</td>\n",
       "      <td>12.200000</td>\n",
       "      <td>16.800000</td>\n",
       "    </tr>\n",
       "    <tr>\n",
       "      <th>75%</th>\n",
       "      <td>3009.000000</td>\n",
       "      <td>0.800000</td>\n",
       "      <td>0.0</td>\n",
       "      <td>0.362500</td>\n",
       "      <td>2.400000</td>\n",
       "      <td>3.000000</td>\n",
       "      <td>1.075000</td>\n",
       "      <td>0.046000</td>\n",
       "      <td>43.000000</td>\n",
       "      <td>0.036294</td>\n",
       "      <td>36.100000</td>\n",
       "      <td>34.000000</td>\n",
       "      <td>17.808333</td>\n",
       "      <td>0.300000</td>\n",
       "      <td>4.900000</td>\n",
       "      <td>0.000000</td>\n",
       "      <td>0.000000</td>\n",
       "      <td>27.800000</td>\n",
       "      <td>17.800000</td>\n",
       "      <td>21.900000</td>\n",
       "    </tr>\n",
       "    <tr>\n",
       "      <th>max</th>\n",
       "      <td>4012.000000</td>\n",
       "      <td>6.000000</td>\n",
       "      <td>0.0</td>\n",
       "      <td>1.550000</td>\n",
       "      <td>32.600000</td>\n",
       "      <td>46.000000</td>\n",
       "      <td>7.762500</td>\n",
       "      <td>0.096000</td>\n",
       "      <td>177.000000</td>\n",
       "      <td>0.068824</td>\n",
       "      <td>91.700000</td>\n",
       "      <td>90.000000</td>\n",
       "      <td>53.254167</td>\n",
       "      <td>106.400000</td>\n",
       "      <td>12.500000</td>\n",
       "      <td>690.000000</td>\n",
       "      <td>709.000000</td>\n",
       "      <td>42.800000</td>\n",
       "      <td>28.900000</td>\n",
       "      <td>32.700000</td>\n",
       "    </tr>\n",
       "  </tbody>\n",
       "</table>\n",
       "</div>"
      ],
      "text/plain": [
       "        Unnamed: 0  1st Max Value_CO  AQI_CO  Arithmetic Mean_CO  \\\n",
       "count  4013.000000       4013.000000  4013.0         4013.000000   \n",
       "mean   2006.000000          0.556188     0.0            0.276255   \n",
       "std    1158.597644          0.481144     0.0            0.214288   \n",
       "min       0.000000         -0.200000     0.0           -0.271429   \n",
       "25%    1003.000000          0.200000     0.0            0.135294   \n",
       "50%    2006.000000          0.430000     0.0            0.245833   \n",
       "75%    3009.000000          0.800000     0.0            0.362500   \n",
       "max    4012.000000          6.000000     0.0            1.550000   \n",
       "\n",
       "       1st Max Value_SO2      AQI_SO2  Arithmetic Mean_SO2  \\\n",
       "count        4013.000000  4013.000000          4013.000000   \n",
       "mean            1.932445     1.982557             0.833141   \n",
       "std             1.844830     2.727888             0.719562   \n",
       "min            -0.400000     0.000000            -0.679167   \n",
       "25%             0.800000     0.000000             0.395238   \n",
       "50%             1.400000     1.000000             0.618182   \n",
       "75%             2.400000     3.000000             1.075000   \n",
       "max            32.600000    46.000000             7.762500   \n",
       "\n",
       "       1st Max Value_Ozone    AQI_Ozone  Arithmetic Mean_Ozone  \\\n",
       "count          4013.000000  4013.000000            4013.000000   \n",
       "mean              0.037676    36.390481               0.028340   \n",
       "std               0.013057    16.538492               0.011093   \n",
       "min               0.000000     0.000000               0.000000   \n",
       "25%               0.029000    27.000000               0.020647   \n",
       "50%               0.038000    35.000000               0.028588   \n",
       "75%               0.046000    43.000000               0.036294   \n",
       "max               0.096000   177.000000               0.068824   \n",
       "\n",
       "       1st Max Value_NO2      AQI_NO2  Arithmetic Mean_NO2         PRCP  \\\n",
       "count        4013.000000  4013.000000          4013.000000  4013.000000   \n",
       "mean           27.112759    25.167207            13.115593     2.224122   \n",
       "std            13.528240    12.872107             7.832565     7.127527   \n",
       "min             1.200000     1.000000            -0.152174     0.000000   \n",
       "25%            16.700000    15.000000             7.200000     0.000000   \n",
       "50%            25.900000    24.000000            11.941667     0.000000   \n",
       "75%            36.100000    34.000000            17.808333     0.300000   \n",
       "max            91.700000    90.000000            53.254167   106.400000   \n",
       "\n",
       "              AWND         SNWD         SNOW         TMAX         TMIN  \\\n",
       "count  4013.000000  4013.000000  4013.000000  4013.000000  4013.000000   \n",
       "mean      3.815176     6.896337     1.767755    19.613905    10.528482   \n",
       "std       1.814895    35.896400    17.908399    10.136479     9.224061   \n",
       "min       0.000000     0.000000     0.000000   -17.100000   -24.900000   \n",
       "25%       2.500000     0.000000     0.000000    13.300000     4.400000   \n",
       "50%       3.400000     0.000000     0.000000    21.700000    12.200000   \n",
       "75%       4.900000     0.000000     0.000000    27.800000    17.800000   \n",
       "max      12.500000   690.000000   709.000000    42.800000    28.900000   \n",
       "\n",
       "              TAVG  \n",
       "count  4013.000000  \n",
       "mean     14.765338  \n",
       "std       9.297367  \n",
       "min     -19.100000  \n",
       "25%       8.800000  \n",
       "50%      16.800000  \n",
       "75%      21.900000  \n",
       "max      32.700000  "
      ]
     },
     "execution_count": 21,
     "metadata": {},
     "output_type": "execute_result"
    }
   ],
   "source": [
    "epa_noaa.describe()"
   ]
  },
  {
   "cell_type": "markdown",
   "metadata": {},
   "source": [
    "### Boxpots and Violin Plots"
   ]
  },
  {
   "cell_type": "code",
   "execution_count": 55,
   "metadata": {
    "scrolled": false
   },
   "outputs": [
    {
     "data": {
      "text/plain": [
       "Text(0.5, 1.0, 'Preciptation')"
      ]
     },
     "execution_count": 55,
     "metadata": {},
     "output_type": "execute_result"
    },
    {
     "data": {
      "image/png": "[encoded data removed]",
      "text/plain": [
       "<Figure size 432x288 with 1 Axes>"
      ]
     },
     "metadata": {
      "needs_background": "light"
     },
     "output_type": "display_data"
    }
   ],
   "source": [
    "sns.violinplot(x=epa_noaa[\"PRCP\"]).set_title(\"Preciptation\")"
   ]
  },
  {
   "cell_type": "code",
   "execution_count": 56,
   "metadata": {},
   "outputs": [
    {
     "data": {
      "text/plain": [
       "Text(0.5, 1.0, 'Average Wind Speed')"
      ]
     },
     "execution_count": 56,
     "metadata": {},
     "output_type": "execute_result"
    },
    {
     "data": {
      "image/png": "[encoded data removed]",
      "text/plain": [
       "<Figure size 432x288 with 1 Axes>"
      ]
     },
     "metadata": {
      "needs_background": "light"
     },
     "output_type": "display_data"
    }
   ],
   "source": [
    "sns.violinplot(x=epa_noaa[\"AWND\"]).set_title(\"Average Wind Speed\")"
   ]
  },
  {
   "cell_type": "code",
   "execution_count": 58,
   "metadata": {},
   "outputs": [
    {
     "data": {
      "text/plain": [
       "Text(0.5, 1.0, 'Snow Depth vs Snowfall')"
      ]
     },
     "execution_count": 58,
     "metadata": {},
     "output_type": "execute_result"
    },
    {
     "data": {
      "image/png": "[encoded data removed]",
      "text/plain": [
       "<Figure size 432x288 with 1 Axes>"
      ]
     },
     "metadata": {
      "needs_background": "light"
     },
     "output_type": "display_data"
    }
   ],
   "source": [
    "snow = [epa_noaa[\"SNWD\"], epa_noaa[\"SNOW\"]]\n",
    "sns.boxplot(data=snow).set_title(\"Snow Depth vs Snowfall\")"
   ]
  },
  {
   "cell_type": "code",
   "execution_count": 53,
   "metadata": {},
   "outputs": [
    {
     "data": {
      "text/plain": [
       "Text(0.5, 1.0, 'Temperature: Maximum, Minimum, and Average')"
      ]
     },
     "execution_count": 53,
     "metadata": {},
     "output_type": "execute_result"
    },
    {
     "data": {
      "image/png": "[encoded data removed]",
      "text/plain": [
       "<Figure size 432x288 with 1 Axes>"
      ]
     },
     "metadata": {
      "needs_background": "light"
     },
     "output_type": "display_data"
    }
   ],
   "source": [
    "temp = [epa_noaa[\"TMAX\"], epa_noaa[\"TMIN\"], epa_noaa[\"TAVG\"]]\n",
    "sns.boxplot(data=temp).set_title(\"Temperature: Maximum, Minimum, and Average\")"
   ]
  },
  {
   "cell_type": "code",
   "execution_count": 29,
   "metadata": {},
   "outputs": [
    {
     "data": {
      "text/plain": [
       "Text(0.5, 1.0, 'AQI for Sulfur Dioxide')"
      ]
     },
     "execution_count": 29,
     "metadata": {},
     "output_type": "execute_result"
    },
    {
     "data": {
      "image/png": "[encoded data removed]",
      "text/plain": [
       "<Figure size 432x288 with 1 Axes>"
      ]
     },
     "metadata": {
      "needs_background": "light"
     },
     "output_type": "display_data"
    }
   ],
   "source": [
    "sns.boxplot(x=epa_noaa[\"AQI_SO2\"]).set_title(\"AQI for Sulfur Dioxide\")"
   ]
  },
  {
   "cell_type": "code",
   "execution_count": 30,
   "metadata": {},
   "outputs": [
    {
     "data": {
      "text/plain": [
       "Text(0.5, 1.0, 'AQI for Ozone')"
      ]
     },
     "execution_count": 30,
     "metadata": {},
     "output_type": "execute_result"
    },
    {
     "data": {
      "image/png": "[encoded data removed]",
      "text/plain": [
       "<Figure size 432x288 with 1 Axes>"
      ]
     },
     "metadata": {
      "needs_background": "light"
     },
     "output_type": "display_data"
    }
   ],
   "source": [
    "sns.boxplot(x=epa_noaa[\"AQI_Ozone\"]).set_title(\"AQI for Ozone\")"
   ]
  },
  {
   "cell_type": "code",
   "execution_count": 31,
   "metadata": {},
   "outputs": [
    {
     "data": {
      "text/plain": [
       "Text(0.5, 1.0, 'AQI for Nitrogen Oxide')"
      ]
     },
     "execution_count": 31,
     "metadata": {},
     "output_type": "execute_result"
    },
    {
     "data": {
      "image/png": "[encoded data removed]",
      "text/plain": [
       "<Figure size 432x288 with 1 Axes>"
      ]
     },
     "metadata": {
      "needs_background": "light"
     },
     "output_type": "display_data"
    }
   ],
   "source": [
    "sns.boxplot(x=epa_noaa[\"AQI_NO2\"]).set_title(\"AQI for Nitrogen Oxide\")"
   ]
  },
  {
   "cell_type": "markdown",
   "metadata": {},
   "source": [
    "# Linear Regression"
   ]
  },
  {
   "cell_type": "code",
   "execution_count": 60,
   "metadata": {},
   "outputs": [],
   "source": [
    "model = LinearRegression()"
   ]
  },
  {
   "cell_type": "code",
   "execution_count": 62,
   "metadata": {},
   "outputs": [],
   "source": [
    "#Top Model Features: ['PRCP', 'AWND', 'SNWD', 'SNOW', 'TAVG'] Target: Arithmetic Mean_Ozone\n",
    "#model.fit(epa_noaa[\"PRCP\"], epa_noaa[\"Arithmetic Mean_Ozone\"]"
   ]
  },
  {
   "cell_type": "code",
   "execution_count": 63,
   "metadata": {},
   "outputs": [],
   "source": [
    "#precipitation, average wind speed, and maximum temperature vs all the air pollutants: NO2, SO2, Ozone"
   ]
  }
 ],
 "metadata": {
  "colab": {
   "collapsed_sections": [],
   "name": "Data Analysis.ipynb",
   "provenance": []
  },
  "kernelspec": {
   "display_name": "Python 3",
   "language": "python",
   "name": "python3"
  },
  "language_info": {
   "codemirror_mode": {
    "name": "ipython",
    "version": 3
   },
   "file_extension": ".py",
   "mimetype": "text/x-python",
   "name": "python",
   "nbconvert_exporter": "python",
   "pygments_lexer": "ipython3",
   "version": "3.7.3"
  }
 },
 "nbformat": 4,
 "nbformat_minor": 1
}
