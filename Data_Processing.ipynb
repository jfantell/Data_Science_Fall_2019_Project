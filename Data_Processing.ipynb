{
 "cells": [
  {
   "cell_type": "code",
   "execution_count": null,
   "metadata": {},
   "outputs": [],
   "source": [
    "import pandas as pd\n",
    "import numpy as np\n",
    "from functools import reduce"
   ]
  },
  {
   "cell_type": "markdown",
   "metadata": {},
   "source": [
    "## NOAA Global Historical Climate Network (GHCN)-Daily\n"
   ]
  },
  {
   "cell_type": "markdown",
   "metadata": {},
   "source": [
    "### Description: \n",
    "\n",
    "Daily weather data for three cities (New York, Chicago, and Los Angeles) between Jan 1, 2015 and Dec 31, 2018.\n",
    "\n",
    "[Data Source](https://www.ncdc.noaa.gov/cdo-web/search?datasetid=GHCND)\n",
    "\n",
    "### Metadata:\n",
    "\n",
    "*All units are metric!*\n",
    "\n",
    "[Metadata documentation source](https://www1.ncdc.noaa.gov/pub/data/cdo/documentation/GHCND_documentation.pdf)\n",
    "\n",
    "* Date Local: Date in which weather record is valid\n",
    "* City Name: City in which weather record is valid\n",
    "* PRCP: Daily Precipitation (millimeters)\n",
    "* AWND: Average Daily Wind Speed (meters/second)\n",
    "* SNWD: Snow depth (millimeters)\n",
    "* SNOW: Snowfall (millimeters)\n",
    "* TAVG = Average daily temperature (Celsius)\n"
   ]
  },
  {
   "cell_type": "code",
   "execution_count": null,
   "metadata": {},
   "outputs": [],
   "source": [
    "# Chicago\n",
    "CHI_noaa_2015 = pd.read_csv('NOAA/CHI/CHI_2015.csv')\n",
    "CHI_noaa_2017 = pd.read_csv('NOAA/CHI/CHI_2017.csv')\n",
    "CHI_2018 = pd.read_csv('NOAA/CHI/CHI_2018.csv')\n",
    "\n",
    "# Los Angeles\n",
    "LA_noaa_2015 = pd.read_csv('NOAA/LA/LA_2015.csv')\n",
    "LA_noaa_2017 = pd.read_csv('NOAA/LA/LA_2017.csv')\n",
    "LA_noaa_2018 = pd.read_csv('NOAA/LA/LA_2018.csv')\n",
    "\n",
    "# New York City\n",
    "NYC_noaa_2015 = pd.read_csv('NOAA/NYC/NYC_2015.csv')\n",
    "NYC_noaa_2017 = pd.read_csv('NOAA/NYC/NYC_2017.csv')\n",
    "NYC_noaa_2018 = pd.read_csv('NOAA/NYC/NYC_2018.csv')\n",
    "\n",
    "CHI_noaa = pd.concat([CHI_noaa_2015,CHI_noaa_2017,CHI_2018],sort=False)\n",
    "LA_noaa = pd.concat([LA_noaa_2015,LA_noaa_2017,LA_noaa_2018],sort=False)\n",
    "NYC_noaa = pd.concat([NYC_noaa_2015,NYC_noaa_2017,NYC_noaa_2018],sort=False)\n",
    "\n",
    "# Add new columns with City Name (to map with EPA data below)\n",
    "CHI_noaa['City Name'] = 'Chicago'\n",
    "LA_noaa['City Name'] = 'Los Angeles'\n",
    "NYC_noaa['City Name'] = 'New York'\n",
    "\n",
    "# Concatenate city weather data into single dataframe\n",
    "noaa_DF = pd.concat([CHI_noaa,LA_noaa,NYC_noaa],sort=False)\n",
    "\n",
    "# Discard certain attributes\n",
    "noaa_DF = noaa_DF[['DATE','City Name','PRCP','AWND','SNWD','SNOW','TMAX','TMIN']]\n",
    "\n",
    "# Rename 'DATE' to 'Date Local' for inner joining noaa and epa data\n",
    "noaa_DF.rename(columns={'DATE': 'Date Local'}, inplace=True)"
   ]
  },
  {
   "cell_type": "code",
   "execution_count": null,
   "metadata": {},
   "outputs": [],
   "source": [
    "noaa_DF.head(5)"
   ]
  },
  {
   "cell_type": "markdown",
   "metadata": {},
   "source": [
    "## EPA Daily AQI: Daily Summary Data - Criteria Gases"
   ]
  },
  {
   "cell_type": "markdown",
   "metadata": {},
   "source": [
    "### Description:\n",
    "\n",
    "Daily air quality data for three cities (New York, Chicago, and Los Angeles) between Jan 1, 2015 and Dec 31, 2018.\n",
    "\n",
    "[Data Source](https://aqs.epa.gov/aqsweb/airdata/download_files.html)\n",
    "\n",
    "### Metadata:\n",
    "\n",
    "*All units are metric!*\n",
    "\n",
    "[Metadata documentation source](https://aqs.epa.gov/aqsweb/airdata/FileFormats.html)\n",
    "\n",
    "* Date Local: Date in which weather record is valid\n",
    "* City Name: City in which weather record is valid\n",
    "* Event Type: Whether exceptional event (i.e. wildfire) occured during data period data was collected\n",
    "* 1st Max Value: Highest value for the day for given pollutant\n",
    "* AQI: Air Quality Index for given pollutant\n",
    "* Arithmetic Mean: Average value for the day for given pollutant\n",
    "\n",
    "The pollutants included in the dataset (and their respective units of measurement) are provided below:\n",
    "* CO: parts per million\n",
    "* SO2: parts per billion\n",
    "* Ozone: parts per million\n",
    "* NO2: parts per billion"
   ]
  },
  {
   "cell_type": "code",
   "execution_count": null,
   "metadata": {},
   "outputs": [],
   "source": [
    "def load_pollutant_datasets(folder_path,data_type,years):\n",
    "    aq_data = [] \n",
    "    for year in years:\n",
    "        df = pd.read_csv('{}/{}_{}.csv'.format(folder_path,data_type,year))\n",
    "        aq_data.append(df)\n",
    "       \n",
    "    aq_dataFrame = pd.concat(aq_data)\n",
    "    return aq_dataFrame\n",
    "\n",
    "folder_path = 'EPA'\n",
    "years = [2015,2016,2017,2018]\n",
    "co_dataFrame = load_epa_data(folder_path,'CO',years)\n",
    "so2_dataFrame = load_epa_data(folder_path,'SO2',years)\n",
    "ozone_dataFrame = load_epa_data(folder_path,'Ozone',years)\n",
    "no2_dataFrame = load_epa_data(folder_path,'NO2',years)"
   ]
  },
  {
   "cell_type": "code",
   "execution_count": null,
   "metadata": {},
   "outputs": [],
   "source": [
    "def filter_pollutant_datasets(dataframe,pollutant_type):\n",
    "    # Default for all datasets except Ozone\n",
    "    sample_duration = '1 HOUR'\n",
    "    \n",
    "    # Rename all instances of East Chicago to Chicago\n",
    "    dataframe['City Name'] = dataframe['City Name'].replace({'East Chicago': 'Chicago'})\n",
    "    \n",
    "    # Handle special case: Chicago monitor site not the same across datasets; cannot be hardcoded\n",
    "    chicago_site_num = 76\n",
    "    \n",
    "    if pollutant_type == \"Ozone\":\n",
    "        sample_duration = '8-HR RUN AVG BEGIN HOUR'\n",
    "    if pollutant_type == \"CO\":\n",
    "        chicago_site_num = 15\n",
    "        \n",
    "    df1 = dataframe[(dataframe['City Name'] == 'New York') & (dataframe['Sample Duration'] == sample_duration) & (dataframe['Site Num'] == 133)]\n",
    "    df2 = dataframe[(dataframe['City Name'] == 'Chicago') & (dataframe['Sample Duration'] == sample_duration) & (dataframe['Site Num'] == chicago_site_num)]\n",
    "    df3 = dataframe[(dataframe['City Name'] == 'Los Angeles') & (dataframe['Sample Duration'] == sample_duration) & (dataframe['Site Num'] == 5005)]\n",
    "    dataframe_ = df1.append([df2,df3])\n",
    "    \n",
    "    # Choose only important columns for analysis\n",
    "    dataframe = dataframe_[['Date Local','City Name','Event Type','1st Max Value','AQI','Arithmetic Mean']]\n",
    "     \n",
    "    # Add pollutant prefix to every column EXCEPT Local Date and City Name\n",
    "    cols = dataframe.columns[~dataframe.columns.str.contains('City Name|Date Local')]\n",
    "    suffix = '_{}'.format(pollutant_type)\n",
    "    dataframe = dataframe.rename(columns = dict(zip(cols, cols + suffix)))\n",
    "    return dataframe\n",
    "\n",
    "co_dataFrame_ = filter_pollutant_datasets(co_dataFrame,\"CO\")\n",
    "so2_dataFrame_ = filter_pollutant_datasets(so2_dataFrame,\"SO2\")\n",
    "ozone_dataFrame_ = filter_pollutant_datasets(ozone_dataFrame,\"Ozone\")\n",
    "no2_dataFrame_ = filter_pollutant_datasets(no2_dataFrame,\"NO2\")"
   ]
  },
  {
   "cell_type": "code",
   "execution_count": null,
   "metadata": {
    "scrolled": true
   },
   "outputs": [],
   "source": [
    "def merge_epa_dataframes(dfs):\n",
    "    df_final = reduce(lambda left,right: pd.merge(left,right,on=[\"Date Local\",\"City Name\"],how=\"inner\"), dfs)\n",
    "    return df_final\n",
    "\n",
    "epa_data = merge_epa_dataframes([co_dataFrame_,so2_dataFrame_,ozone_dataFrame_,no2_dataFrame_])\n",
    "len(epa_data)"
   ]
  },
  {
   "cell_type": "code",
   "execution_count": null,
   "metadata": {
    "scrolled": false
   },
   "outputs": [],
   "source": [
    "epa_data.groupby(['City Name']).count()"
   ]
  },
  {
   "cell_type": "markdown",
   "metadata": {},
   "source": [
    "# Merge and Serialize Datasets"
   ]
  },
  {
   "cell_type": "code",
   "execution_count": null,
   "metadata": {},
   "outputs": [],
   "source": [
    "epa_noaa_df = pd.merge(epa_data,noaa_DF,on=[\"Date Local\",\"City Name\"],how=\"inner\")"
   ]
  },
  {
   "cell_type": "code",
   "execution_count": null,
   "metadata": {},
   "outputs": [],
   "source": [
    "epa_noaa_df.head(5)"
   ]
  },
  {
   "cell_type": "code",
   "execution_count": null,
   "metadata": {},
   "outputs": [],
   "source": [
    "epa_noaa_df.to_csv('epa_noaa.csv')"
   ]
  },
  {
   "cell_type": "code",
   "execution_count": null,
   "metadata": {},
   "outputs": [],
   "source": []
  }
 ],
 "metadata": {
  "kernelspec": {
   "display_name": "Python 3",
   "language": "python",
   "name": "python3"
  },
  "language_info": {
   "codemirror_mode": {
    "name": "ipython",
    "version": 3
   },
   "file_extension": ".py",
   "mimetype": "text/x-python",
   "name": "python",
   "nbconvert_exporter": "python",
   "pygments_lexer": "ipython3",
   "version": "3.6.9"
  }
 },
 "nbformat": 4,
 "nbformat_minor": 2
}
