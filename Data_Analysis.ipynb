{
  "nbformat": 4,
  "nbformat_minor": 0,
  "metadata": {
    "colab": {
      "name": "Data Analysis.ipynb",
      "provenance": [],
      "collapsed_sections": []
    },
    "kernelspec": {
      "name": "python3",
      "display_name": "Python 3"
    }
  },
  "cells": [
    {
      "cell_type": "markdown",
      "metadata": {
        "id": "hG9qkWDZvApZ",
        "colab_type": "text"
      },
      "source": [
        "**Mount Drive and Read Data From Disk**\n",
        "\n",
        "Do not modify this section"
      ]
    },
    {
      "cell_type": "code",
      "metadata": {
        "id": "pjgmubaWNh64",
        "colab_type": "code",
        "colab": {}
      },
      "source": [
        "import pandas as pd\n",
        "import numpy as np"
      ],
      "execution_count": 0,
      "outputs": []
    },
    {
      "cell_type": "code",
      "metadata": {
        "id": "z0igC_YaNBpO",
        "colab_type": "code",
        "outputId": "f9507c05-1ccf-4a3e-9a21-6ba0d012f852",
        "colab": {
          "base_uri": "https://localhost:8080/",
          "height": 35
        }
      },
      "source": [
        "from google.colab import drive\n",
        "drive.mount('/content/drive/',force_remount=True)"
      ],
      "execution_count": 28,
      "outputs": [
        {
          "output_type": "stream",
          "text": [
            "Mounted at /content/drive/\n"
          ],
          "name": "stdout"
        }
      ]
    },
    {
      "cell_type": "code",
      "metadata": {
        "id": "oDNYhw61NKpM",
        "colab_type": "code",
        "outputId": "2fe4f981-2137-4146-f05e-489fdb861cb4",
        "colab": {
          "base_uri": "https://localhost:8080/",
          "height": 924
        }
      },
      "source": [
        "#John\n",
        "#cd drive/'My Drive'/'Data Science Group'/Data/\n",
        "\n",
        "#Samm\n",
        "cd 'My Drive'\n"
      ],
      "execution_count": 31,
      "outputs": [
        {
          "output_type": "stream",
          "text": [
            "ERROR:root:Internal Python error in the inspect module.\n",
            "Below is the traceback from this internal error.\n",
            "\n"
          ],
          "name": "stderr"
        },
        {
          "output_type": "stream",
          "text": [
            "Traceback (most recent call last):\n",
            "  File \"/usr/local/lib/python3.6/dist-packages/IPython/core/interactiveshell.py\", line 2882, in run_code\n",
            "    exec(code_obj, self.user_global_ns, self.user_ns)\n",
            "  File \"<ipython-input-31-d741bf65489c>\", line 1, in <module>\n",
            "    get_ipython().magic(\"cd 'My Drive'\")\n",
            "  File \"/usr/local/lib/python3.6/dist-packages/IPython/core/interactiveshell.py\", line 2160, in magic\n",
            "    return self.run_line_magic(magic_name, magic_arg_s)\n",
            "  File \"/usr/local/lib/python3.6/dist-packages/IPython/core/interactiveshell.py\", line 2081, in run_line_magic\n",
            "    result = fn(*args,**kwargs)\n",
            "  File \"</usr/local/lib/python3.6/dist-packages/decorator.py:decorator-gen-91>\", line 2, in cd\n",
            "  File \"/usr/local/lib/python3.6/dist-packages/IPython/core/magic.py\", line 188, in <lambda>\n",
            "    call = lambda f, *a, **k: f(*a, **k)\n",
            "  File \"/usr/local/lib/python3.6/dist-packages/IPython/core/magics/osm.py\", line 288, in cd\n",
            "    oldcwd = py3compat.getcwd()\n",
            "OSError: [Errno 107] Transport endpoint is not connected\n",
            "\n",
            "During handling of the above exception, another exception occurred:\n",
            "\n",
            "Traceback (most recent call last):\n",
            "  File \"/usr/local/lib/python3.6/dist-packages/IPython/core/interactiveshell.py\", line 1823, in showtraceback\n",
            "    stb = value._render_traceback_()\n",
            "AttributeError: 'OSError' object has no attribute '_render_traceback_'\n",
            "\n",
            "During handling of the above exception, another exception occurred:\n",
            "\n",
            "Traceback (most recent call last):\n",
            "  File \"/usr/local/lib/python3.6/dist-packages/IPython/core/ultratb.py\", line 1132, in get_records\n",
            "    return _fixed_getinnerframes(etb, number_of_lines_of_context, tb_offset)\n",
            "  File \"/usr/local/lib/python3.6/dist-packages/IPython/core/ultratb.py\", line 313, in wrapped\n",
            "    return f(*args, **kwargs)\n",
            "  File \"/usr/local/lib/python3.6/dist-packages/IPython/core/ultratb.py\", line 358, in _fixed_getinnerframes\n",
            "    records = fix_frame_records_filenames(inspect.getinnerframes(etb, context))\n",
            "  File \"/usr/lib/python3.6/inspect.py\", line 1490, in getinnerframes\n",
            "    frameinfo = (tb.tb_frame,) + getframeinfo(tb, context)\n",
            "  File \"/usr/lib/python3.6/inspect.py\", line 1448, in getframeinfo\n",
            "    filename = getsourcefile(frame) or getfile(frame)\n",
            "  File \"/usr/lib/python3.6/inspect.py\", line 696, in getsourcefile\n",
            "    if getattr(getmodule(object, filename), '__loader__', None) is not None:\n",
            "  File \"/usr/lib/python3.6/inspect.py\", line 725, in getmodule\n",
            "    file = getabsfile(object, _filename)\n",
            "  File \"/usr/lib/python3.6/inspect.py\", line 709, in getabsfile\n",
            "    return os.path.normcase(os.path.abspath(_filename))\n",
            "  File \"/usr/lib/python3.6/posixpath.py\", line 383, in abspath\n",
            "    cwd = os.getcwd()\n",
            "OSError: [Errno 107] Transport endpoint is not connected\n"
          ],
          "name": "stdout"
        },
        {
          "output_type": "error",
          "ename": "OSError",
          "evalue": "ignored",
          "traceback": [
            "\u001b[0;31m---------------------------------------------------------------------------\u001b[0m"
          ]
        }
      ]
    },
    {
      "cell_type": "code",
      "metadata": {
        "id": "3DfwUtGBNO9v",
        "colab_type": "code",
        "outputId": "e26fb564-34f3-49f6-fe3a-e35de1f572fa",
        "colab": {
          "base_uri": "https://localhost:8080/",
          "height": 52
        }
      },
      "source": [
        "ls"
      ],
      "execution_count": 30,
      "outputs": [
        {
          "output_type": "stream",
          "text": [
            "shell-init: error retrieving current directory: getcwd: cannot access parent directories: Transport endpoint is not connected\n",
            "ls: cannot open directory '.': Transport endpoint is not connected\n"
          ],
          "name": "stdout"
        }
      ]
    },
    {
      "cell_type": "markdown",
      "metadata": {
        "id": "wjtat8LqvU9V",
        "colab_type": "text"
      },
      "source": [
        "**Data Visualizations**"
      ]
    },
    {
      "cell_type": "code",
      "metadata": {
        "id": "ZhvwgvOmOGVQ",
        "colab_type": "code",
        "outputId": "83c9ca02-e64f-4370-f1ab-865992671c72",
        "colab": {
          "base_uri": "https://localhost:8080/",
          "height": 167
        }
      },
      "source": [
        "epa_noaa = pd.read_csv('epa_noaa.csv')"
      ],
      "execution_count": 0,
      "outputs": [
        {
          "output_type": "error",
          "ename": "NameError",
          "evalue": "ignored",
          "traceback": [
            "\u001b[0;31m---------------------------------------------------------------------------\u001b[0m",
            "\u001b[0;31mNameError\u001b[0m                                 Traceback (most recent call last)",
            "\u001b[0;32m<ipython-input-6-438d35839191>\u001b[0m in \u001b[0;36m<module>\u001b[0;34m()\u001b[0m\n\u001b[0;32m----> 1\u001b[0;31m \u001b[0mepa_noaa\u001b[0m \u001b[0;34m=\u001b[0m \u001b[0mpd\u001b[0m\u001b[0;34m.\u001b[0m\u001b[0mread_csv\u001b[0m\u001b[0;34m(\u001b[0m\u001b[0;34m'epa_noaa.csv'\u001b[0m\u001b[0;34m)\u001b[0m\u001b[0;34m\u001b[0m\u001b[0;34m\u001b[0m\u001b[0m\n\u001b[0m",
            "\u001b[0;31mNameError\u001b[0m: name 'pd' is not defined"
          ]
        }
      ]
    },
    {
      "cell_type": "code",
      "metadata": {
        "id": "nI7_otCAu3hy",
        "colab_type": "code",
        "colab": {}
      },
      "source": [
        "epa_noaa.fillna(0,inplace=True)"
      ],
      "execution_count": 0,
      "outputs": []
    },
    {
      "cell_type": "markdown",
      "metadata": {
        "id": "ZEbOgWa4vw3z",
        "colab_type": "text"
      },
      "source": [
        "**Data Modeling**"
      ]
    },
    {
      "cell_type": "code",
      "metadata": {
        "id": "K9BJuStLu4ox",
        "colab_type": "code",
        "colab": {}
      },
      "source": [
        "from sklearn.linear_model import LinearRegression\n",
        "from sklearn.model_selection import train_test_split\n",
        "from sklearn.metrics import mean_squared_error, r2_score\n",
        "from itertools import combinations\n",
        "import matplotlib.pyplot as plt\n",
        "import numpy as np"
      ],
      "execution_count": 0,
      "outputs": []
    },
    {
      "cell_type": "code",
      "metadata": {
        "id": "eR9C6Z0A92wt",
        "colab_type": "code",
        "colab": {}
      },
      "source": [
        "class TopModel(object):\n",
        "  def __init__(self):\n",
        "    self.mse_ = 10000000\n",
        "    self.explained_variance_ = 0\n",
        "    self.coefficients_ = []\n",
        "    self.features_ = []\n",
        "    self.target_ = []\n",
        "  \n",
        "  def get_mse(self):\n",
        "    return self.mse_\n",
        "\n",
        "  def get_explained_variance(self):\n",
        "    return self.explained_variance_\n",
        "\n",
        "  def reset_model(self,mse,explained_variance,coefficients,features,target):\n",
        "    self.mse_ = mse\n",
        "    self.explained_variance_ = explained_variance\n",
        "    self.coefficients_ = coefficients \n",
        "    self.features_ = features\n",
        "    self.target_ = target\n",
        "\n",
        "  def __str__(self):\n",
        "    return \"Top Model\\n\\tFeatures: {} Target: {}\\n\\tMSE: {} R^2 {}\\n\\tCoefficients: {}\".format(self.features_,self.target_,self.mse_, self.explained_variance_, self.coefficients_)"
      ],
      "execution_count": 0,
      "outputs": []
    },
    {
      "cell_type": "code",
      "metadata": {
        "id": "MWSslKCIvnxO",
        "colab_type": "code",
        "colab": {}
      },
      "source": [
        "def get_best_model(dataframe,features,targets):\n",
        "  # Initialize object to store top model\n",
        "  topModel = TopModel()\n",
        "  # Generate list of all possible feature set combinations\n",
        "  feature_type_combinations = sum([list(map(list, combinations(features, i))) for i in range(1,len(features) + 1)], [])\n",
        "  for idx1, target in enumerate(targets):\n",
        "    for idx2, combination in enumerate(feature_type_combinations):\n",
        "        mse, explained_variance, coefficients = train_and_evaluate(dataframe,combination,target)\n",
        "        #if(mse < topModel.get_mse()):\n",
        "        if explained_variance > topModel.get_explained_variance():\n",
        "          # Get coefficients\n",
        "          topModel.reset_model(mse,explained_variance,coefficients,combination,target)\n",
        "  return topModel"
      ],
      "execution_count": 0,
      "outputs": []
    },
    {
      "cell_type": "code",
      "metadata": {
        "id": "iVyIRgHsGZ9z",
        "colab_type": "code",
        "colab": {}
      },
      "source": [
        "def train_and_evaluate(dataframe,features,target,returnPredictions=False):\n",
        "    X = dataframe[features].values\n",
        "    y = dataframe[target].values\n",
        "    # print(X.shape, y.shape)\n",
        "    # Partition data into train and test split\n",
        "    X_train, X_test, y_train, y_test = train_test_split(X, y, test_size=0.2, shuffle=True, random_state=42)\n",
        "    # Train a regression model\n",
        "    reg = LinearRegression().fit(X_train, y_train)\n",
        "    # Get predicted targets\n",
        "    y_predictions = reg.predict(X_test)\n",
        "    mse = mean_squared_error(y_test, y_predictions)\n",
        "    explained_variance = r2_score(y_test, y_predictions)\n",
        "    coefficients = reg.coef_\n",
        "    if returnPredictions:\n",
        "      test_predictions = np.vstack([y_test,y_predictions]).T\n",
        "      test_predictions_dataframe = pd.DataFrame(data=test_predictions,columns=['Test','Predicted'])\n",
        "      return mse, explained_variance, coefficients, test_predictions_dataframe\n",
        "    else:\n",
        "      return mse, explained_variance, coefficients"
      ],
      "execution_count": 0,
      "outputs": []
    },
    {
      "cell_type": "code",
      "metadata": {
        "id": "nG2Ll3rA-pL4",
        "colab_type": "code",
        "outputId": "122290a9-ba75-4c94-b5f6-e47240dfbe26",
        "colab": {
          "base_uri": "https://localhost:8080/",
          "height": 220
        }
      },
      "source": [
        "features = ['PRCP','AWND','SNWD','SNOW','TAVG']\n",
        "targets = ['AQI_SO2','AQI_NO2','AQI_Ozone','Arithmetic Mean_Ozone','Arithmetic Mean_SO2','Arithmetic Mean_CO','Arithmetic Mean_NO2']\n",
        "dataframe = epa_noaa\n",
        "topModel = get_best_model(dataframe,features,targets)"
      ],
      "execution_count": 0,
      "outputs": [
        {
          "output_type": "error",
          "ename": "NameError",
          "evalue": "ignored",
          "traceback": [
            "\u001b[0;31m---------------------------------------------------------------------------\u001b[0m",
            "\u001b[0;31mNameError\u001b[0m                                 Traceback (most recent call last)",
            "\u001b[0;32m<ipython-input-5-38426c5578ed>\u001b[0m in \u001b[0;36m<module>\u001b[0;34m()\u001b[0m\n\u001b[1;32m      1\u001b[0m \u001b[0mfeatures\u001b[0m \u001b[0;34m=\u001b[0m \u001b[0;34m[\u001b[0m\u001b[0;34m'PRCP'\u001b[0m\u001b[0;34m,\u001b[0m\u001b[0;34m'AWND'\u001b[0m\u001b[0;34m,\u001b[0m\u001b[0;34m'SNWD'\u001b[0m\u001b[0;34m,\u001b[0m\u001b[0;34m'SNOW'\u001b[0m\u001b[0;34m,\u001b[0m\u001b[0;34m'TAVG'\u001b[0m\u001b[0;34m]\u001b[0m\u001b[0;34m\u001b[0m\u001b[0;34m\u001b[0m\u001b[0m\n\u001b[1;32m      2\u001b[0m \u001b[0mtargets\u001b[0m \u001b[0;34m=\u001b[0m \u001b[0;34m[\u001b[0m\u001b[0;34m'AQI_SO2'\u001b[0m\u001b[0;34m,\u001b[0m\u001b[0;34m'AQI_NO2'\u001b[0m\u001b[0;34m,\u001b[0m\u001b[0;34m'AQI_Ozone'\u001b[0m\u001b[0;34m,\u001b[0m\u001b[0;34m'Arithmetic Mean_Ozone'\u001b[0m\u001b[0;34m,\u001b[0m\u001b[0;34m'Arithmetic Mean_SO2'\u001b[0m\u001b[0;34m,\u001b[0m\u001b[0;34m'Arithmetic Mean_CO'\u001b[0m\u001b[0;34m,\u001b[0m\u001b[0;34m'Arithmetic Mean_NO2'\u001b[0m\u001b[0;34m]\u001b[0m\u001b[0;34m\u001b[0m\u001b[0;34m\u001b[0m\u001b[0m\n\u001b[0;32m----> 3\u001b[0;31m \u001b[0mdataframe\u001b[0m \u001b[0;34m=\u001b[0m \u001b[0mepa_noaa\u001b[0m\u001b[0;34m\u001b[0m\u001b[0;34m\u001b[0m\u001b[0m\n\u001b[0m\u001b[1;32m      4\u001b[0m \u001b[0mtopModel\u001b[0m \u001b[0;34m=\u001b[0m \u001b[0mget_best_model\u001b[0m\u001b[0;34m(\u001b[0m\u001b[0mdataframe\u001b[0m\u001b[0;34m,\u001b[0m\u001b[0mfeatures\u001b[0m\u001b[0;34m,\u001b[0m\u001b[0mtargets\u001b[0m\u001b[0;34m)\u001b[0m\u001b[0;34m\u001b[0m\u001b[0;34m\u001b[0m\u001b[0m\n",
            "\u001b[0;31mNameError\u001b[0m: name 'epa_noaa' is not defined"
          ]
        }
      ]
    },
    {
      "cell_type": "code",
      "metadata": {
        "id": "nFOSXU9hzt4E",
        "colab_type": "code",
        "outputId": "c393c850-8ee4-4f01-a09a-5c27d22b8af6",
        "colab": {
          "base_uri": "https://localhost:8080/",
          "height": 102
        }
      },
      "source": [
        "print(topModel)"
      ],
      "execution_count": 0,
      "outputs": [
        {
          "output_type": "stream",
          "text": [
            "Top Model\n",
            "\tFeatures: ['PRCP', 'AWND', 'SNWD', 'SNOW', 'TAVG'] Target: Arithmetic Mean_Ozone\n",
            "\tMSE: 8.789580855395981e-05 R^2 0.3068421445771602\n",
            "\tCoefficients: [-1.92445680e-04  7.97851262e-04  1.27100478e-05  3.37625587e-05\n",
            "  6.84417861e-04]\n"
          ],
          "name": "stdout"
        }
      ]
    },
    {
      "cell_type": "code",
      "metadata": {
        "id": "LZSXlrXU8O0c",
        "colab_type": "code",
        "colab": {}
      },
      "source": [
        "mse, explained_variance, coefficients, test_predictions = train_and_evaluate( dataframe, ['TAVG'], 'Arithmetic Mean_Ozone', returnPredictions=True)\n"
      ],
      "execution_count": 0,
      "outputs": []
    },
    {
      "cell_type": "code",
      "metadata": {
        "id": "7pCFb3ZrIl4C",
        "colab_type": "code",
        "colab": {}
      },
      "source": [
        "print(mse, explained_variance)"
      ],
      "execution_count": 0,
      "outputs": []
    },
    {
      "cell_type": "code",
      "metadata": {
        "id": "psWlT0nsT-pI",
        "colab_type": "code",
        "colab": {}
      },
      "source": [
        ""
      ],
      "execution_count": 0,
      "outputs": []
    }
  ]
}